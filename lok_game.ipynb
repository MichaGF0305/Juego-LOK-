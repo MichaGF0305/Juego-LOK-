{
 "cells": [
  {
   "cell_type": "markdown",
   "id": "f95de103",
   "metadata": {},
   "source": [
    "### Librerías a Útilizar\n",
    "\n",
    "---"
   ]
  },
  {
   "cell_type": "code",
   "execution_count": 35,
   "id": "3631568c",
   "metadata": {},
   "outputs": [],
   "source": [
    "import numpy as np\n",
    "import random\n",
    "import string"
   ]
  },
  {
   "cell_type": "markdown",
   "id": "62caba9d",
   "metadata": {},
   "source": [
    "### Objeto Tablero\n",
    "\n",
    "---"
   ]
  },
  {
   "cell_type": "markdown",
   "id": "856a2fff",
   "metadata": {},
   "source": [
    "**El Objeto Tablero (`Table`) debe de tener las siguientes caracteristicas:**\n",
    "\n",
    "* Debe generar letras aleatoriamente, desde la A, hasta la Z (Sin la inclusión de la Ñ)\n",
    "* Se debe de asegurar de que haya posibilidad de combinación de los `keywords`, que son:\n",
    "    - `LOK`\n",
    "    - `TLAK`\n",
    "    - `TAK` "
   ]
  },
  {
   "cell_type": "code",
   "execution_count": 38,
   "id": "3ba777ef",
   "metadata": {},
   "outputs": [],
   "source": [
    "class Table:\n",
    "    def __init__(self, rows, columns):\n",
    "        self.rows = rows\n",
    "        self.columns = columns\n",
    "        # Usa dtype='U1' para string de un carácter en numpy\n",
    "        self.data = np.zeros((rows, columns), dtype='U1')  \n",
    "        self._valid_letters = list(string.ascii_uppercase)\n",
    "\n",
    "    def set_letter(self):\n",
    "        for i in range(self.rows):\n",
    "            for j in range(self.columns):\n",
    "                self.data[i][j] = random.choice(self._valid_letters)\n",
    "\n",
    "    def mostrar(self):\n",
    "        for fila in self.data:\n",
    "            print(' '.join(fila))"
   ]
  },
  {
   "cell_type": "code",
   "execution_count": 45,
   "id": "ffbeac41",
   "metadata": {},
   "outputs": [
    {
     "name": "stdout",
     "output_type": "stream",
     "text": [
      "C D F M I Z\n",
      "A G G W M S\n",
      "B K F Z N N\n",
      "A X L A N E\n",
      "E M V Q C U\n",
      "I A Y C W H\n"
     ]
    }
   ],
   "source": [
    "tabla = Table(6, 6)\n",
    "tabla.set_letter()\n",
    "tabla.mostrar()"
   ]
  }
 ],
 "metadata": {
  "kernelspec": {
   "display_name": "game_lok-env",
   "language": "python",
   "name": "python3"
  },
  "language_info": {
   "codemirror_mode": {
    "name": "ipython",
    "version": 3
   },
   "file_extension": ".py",
   "mimetype": "text/x-python",
   "name": "python",
   "nbconvert_exporter": "python",
   "pygments_lexer": "ipython3",
   "version": "3.12.3"
  }
 },
 "nbformat": 4,
 "nbformat_minor": 5
}
